{
 "cells": [
  {
   "cell_type": "markdown",
   "id": "56e70d1d",
   "metadata": {},
   "source": [
    "# <i class=\"fa fa-laptop\"></i> Using Python for a summary of the results\n",
    "\n",
    "<div style=\"background-color: #86CBBB; 1px; height:3px \" ></div>\n",
    "\n",
    "Here, we will demonstrate how to use python for some basic summary of the statistics of the Tresults generated in the CodeTheFly execise. \n",
    "\n",
    "In this Jupyter _notebook_ you can check and practice the exercises and some statistics from the previous practical session. \n"
   ]
  },
  {
   "cell_type": "markdown",
   "id": "a3525021",
   "metadata": {},
   "source": [
    "## Step 0: Understand pandas dataframes"
   ]
  },
  {
   "cell_type": "markdown",
   "id": "a7a99f7b",
   "metadata": {},
   "source": [
    "**_Pandas Dataframes_** \n",
    "\n",
    "[pandas](https://pandas.pydata.org/docs/index.html#module-pandas) is a library providing high-performance, easy-to-use data structures and data analysis tools.\n",
    "\n",
    "Dataframes contain:\n",
    "- Data organized in 2 dimensions, rows and columns\n",
    "- Labels that correspond to the rows and columns\n",
    "\n",
    "Pandas dataframe:\n",
    "- has functions for analyzing, exploring, and manipulating data.\n",
    "- can clean messy data sets (missing, NULL, wrong values), and make them readable and relevant.\n",
    "- allows us to analyze big data and make conclusions based on statistical theories.\n",
    "\n",
    "\n",
    "\n",
    "Additional details [here](https://realpython.com/pandas-dataframe/) and tutorials [there](https://www.w3schools.com/python/pandas/default.asp)\n",
    "\n",
    "### <i class=\"fa fa-search\"></i> Example"
   ]
  },
  {
   "cell_type": "code",
   "execution_count": null,
   "id": "dfa4a719",
   "metadata": {},
   "outputs": [],
   "source": [
    "# import package\n",
    "import pandas\n",
    "\n",
    "mydataset = {\n",
    "  'cars': [\"BMW\", \"Volvo\", \"Ford\"],\n",
    "  'passings': [3, 7, 2]\n",
    "}\n",
    "\n",
    "myvar = pandas.DataFrame(mydataset)\n",
    "\n",
    "print(myvar)"
   ]
  },
  {
   "cell_type": "markdown",
   "id": "d895d45a",
   "metadata": {},
   "source": [
    "#### Use alias to import pandas\n",
    "\n",
    "You can also use an alias. \n",
    "\n",
    "In Python alias are an alternate name for referring to the same thing.\n",
    "\n",
    "Now the Pandas package can be referred to as `pd` instead of `pandas`.\n"
   ]
  },
  {
   "cell_type": "code",
   "execution_count": null,
   "id": "98c6980d",
   "metadata": {},
   "outputs": [],
   "source": [
    "# import package and use abbreviation\n",
    "import pandas as pd\n",
    "\n",
    "data = {\n",
    "    'name': ['Xavier', 'Ann', 'Jana', 'Yi', 'Robin', 'Amal', 'Nori'],\n",
    "    'city': ['Mexico City', 'Toronto', 'Prague', 'Shanghai','Manchester', 'Cairo', 'Osaka'],\n",
    "    'age': [41, 28, 33, 34, 38, 31, 37],\n",
    "    'py-score': [88.0, 79.0, 81.0, 80.0, 68.0, 61.0, 84.0]\n",
    "}\n",
    "\n",
    "row_labels = ['A', 'B', 'C', 'D', 'E', 'F', 'G']\n",
    "\n",
    "df = pd.DataFrame(data=data, index=row_labels)\n",
    "\n",
    "df"
   ]
  },
  {
   "cell_type": "code",
   "execution_count": null,
   "id": "a9dedaff",
   "metadata": {},
   "outputs": [],
   "source": [
    "## find index IDs\n",
    "df.index"
   ]
  },
  {
   "cell_type": "code",
   "execution_count": null,
   "id": "418efc70",
   "metadata": {},
   "outputs": [],
   "source": [
    "## find column IDs\n",
    "df.columns"
   ]
  },
  {
   "cell_type": "code",
   "execution_count": null,
   "id": "f1edd280",
   "metadata": {},
   "outputs": [],
   "source": [
    "## access columns\n",
    "df['city']"
   ]
  },
  {
   "cell_type": "markdown",
   "id": "d423a863",
   "metadata": {},
   "source": [
    "If the name of the column is a string that is a valid Python identifier, then you can use dot notation to access it. That is, you can access the column the same way you would get the attribute of a class instance:"
   ]
  },
  {
   "cell_type": "code",
   "execution_count": null,
   "id": "b12eca0a",
   "metadata": {},
   "outputs": [],
   "source": [
    "## access columns too\n",
    "df.city"
   ]
  },
  {
   "cell_type": "markdown",
   "id": "4fed69f6",
   "metadata": {},
   "source": [
    "Also, pandas has four accessors in total:\n",
    "\n",
    "- `.loc[]` accepts the labels of rows and columns and returns Series or DataFrames. You can use it to get entire rows or columns, as well as their parts.\n",
    "\n",
    "- `.iloc[]` accepts the zero-based indices of rows and columns and returns Series or DataFrames. You can use it to get entire rows or columns, or their parts.\n",
    "\n",
    "- `.at[]` accepts the labels of rows and columns and returns a single data value.\n",
    "\n",
    "- `.iat[]` accepts the zero-based indices of rows and columns and returns a single data value."
   ]
  },
  {
   "cell_type": "code",
   "execution_count": null,
   "id": "61a7624a",
   "metadata": {},
   "outputs": [],
   "source": [
    "## Access the row named A\n",
    "df.loc['A']"
   ]
  },
  {
   "cell_type": "code",
   "execution_count": null,
   "id": "beee2a80",
   "metadata": {},
   "outputs": [],
   "source": [
    "## Access a row using zero-based indices\n",
    "df.iloc[2]"
   ]
  },
  {
   "cell_type": "markdown",
   "id": "711888fe",
   "metadata": {},
   "source": [
    "#### Slicing dataframes\n",
    "`.loc[]` and `.iloc[]` are particularly powerful. They support slicing and NumPy-style indexing. You can use them to access a column:"
   ]
  },
  {
   "cell_type": "code",
   "execution_count": null,
   "id": "8f58b305",
   "metadata": {},
   "outputs": [],
   "source": [
    "## PROVIDE: ROWS , COLUMNS\n",
    "df.loc[ ['A', 'D'], ['city','age']]"
   ]
  },
  {
   "cell_type": "code",
   "execution_count": null,
   "id": "40c87541",
   "metadata": {},
   "outputs": [],
   "source": [
    "## slicing dataframe: from 0-3rd row, only 0-2nd columns included\n",
    "df.iloc[:3,:2]"
   ]
  },
  {
   "cell_type": "markdown",
   "id": "da7ce0d8",
   "metadata": {},
   "source": [
    "## Step 1: Read and inspect the file Tresults"
   ]
  },
  {
   "cell_type": "markdown",
   "id": "5d4cfae1",
   "metadata": {},
   "source": [
    "In the following code chunk, we will create an alias for pandas named pd. \n",
    "\n",
    "We will use a function `read_csv` to read the content of the tabular separated file (Tresults) automatically into a dataframe.\n",
    "\n",
    "Note the argument `sep=\"\\t\"` that tells python to split columns by `\\t` and not `,` (as it should do it for the comma separated values)."
   ]
  },
  {
   "cell_type": "code",
   "execution_count": null,
   "id": "45e36331",
   "metadata": {},
   "outputs": [],
   "source": [
    "import pandas as pd\n",
    "example_res = pd.read_csv(\"example_Tresults.tsv\", sep=\"\\t\")"
   ]
  },
  {
   "cell_type": "code",
   "execution_count": null,
   "id": "3f288bcf",
   "metadata": {},
   "outputs": [],
   "source": [
    "import pandas as pd"
   ]
  },
  {
   "cell_type": "markdown",
   "id": "66c2735a",
   "metadata": {},
   "source": [
    "**ATTENTION**: Modify in the following code, the variable `file_Tresults`, to the path to your file Tresults"
   ]
  },
  {
   "cell_type": "code",
   "execution_count": null,
   "id": "e64c086b",
   "metadata": {},
   "outputs": [],
   "source": [
    "file_Tresults = \"\"\n",
    "example_res = pd.read_csv(file_Tresults, sep=\"\\t\")"
   ]
  },
  {
   "cell_type": "code",
   "execution_count": null,
   "id": "e94c3f0b",
   "metadata": {},
   "outputs": [],
   "source": [
    "# example_res is a dataframe == Excel table\n",
    "type(example_res)"
   ]
  },
  {
   "cell_type": "code",
   "execution_count": null,
   "id": "25233e0d",
   "metadata": {},
   "outputs": [],
   "source": [
    "## get a small subset of the first lines\n",
    "example_res.head()"
   ]
  },
  {
   "cell_type": "code",
   "execution_count": null,
   "id": "c47f0255",
   "metadata": {},
   "outputs": [],
   "source": [
    "## get a small subset of the last lines\n",
    "example_res.tail()"
   ]
  },
  {
   "cell_type": "code",
   "execution_count": null,
   "id": "63240d9b",
   "metadata": {},
   "outputs": [],
   "source": [
    "## get the number of dimensions of the dataframe\n",
    "example_res.shape"
   ]
  },
  {
   "cell_type": "markdown",
   "id": "175be578",
   "metadata": {},
   "source": [
    "We can get the types of values in each of the 20 columns:\n",
    "- object: character strings (A, B, C, ABC, \"a string\"...)\n",
    "- int64: an integer number: 1,2,3,4,5...\n",
    "- float64: a decimal numnber: 0.963, 0.121, 124.156..."
   ]
  },
  {
   "cell_type": "code",
   "execution_count": null,
   "id": "c2461450",
   "metadata": {},
   "outputs": [],
   "source": [
    "## obtain the types of values\n",
    "example_res.dtypes"
   ]
  },
  {
   "cell_type": "code",
   "execution_count": null,
   "id": "8e393a4b",
   "metadata": {},
   "outputs": [],
   "source": [
    "## access the values of the column combination\n",
    "example_res.combination"
   ]
  },
  {
   "cell_type": "code",
   "execution_count": null,
   "id": "ed00adb3",
   "metadata": {},
   "outputs": [],
   "source": [
    "# we can select columns which are strings, objects\n",
    "example_res.select_dtypes(include=['object'])"
   ]
  },
  {
   "cell_type": "code",
   "execution_count": null,
   "id": "a37cadc4",
   "metadata": {},
   "outputs": [],
   "source": [
    "# we can select columns which are numbers\n",
    "example_res.select_dtypes(include=['float', 'int'])"
   ]
  },
  {
   "cell_type": "code",
   "execution_count": null,
   "id": "83919ed8",
   "metadata": {},
   "outputs": [],
   "source": [
    "# pandas built-in function describe allows to summarize float and integers automatically\n",
    "example_res.describe()"
   ]
  },
  {
   "cell_type": "code",
   "execution_count": null,
   "id": "711ab06f",
   "metadata": {},
   "outputs": [],
   "source": [
    "## count number of occurrences for the elements of a string column\n",
    "example_res['absence_detection'].value_counts()"
   ]
  },
  {
   "cell_type": "code",
   "execution_count": null,
   "id": "d1f27cb9",
   "metadata": {},
   "outputs": [],
   "source": [
    "## count number of occurrences for the elements of a string column\n",
    "example_res['combination'].value_counts()"
   ]
  },
  {
   "cell_type": "code",
   "execution_count": null,
   "id": "7cb9f0c6",
   "metadata": {},
   "outputs": [],
   "source": [
    "## create a plot representation\n",
    "example_res['combination'].value_counts().plot.bar()"
   ]
  },
  {
   "cell_type": "markdown",
   "id": "17cc486f",
   "metadata": {},
   "source": [
    "Sometimes, at the left and right side of the transposon, there is a repeat.\n",
    "\n",
    "Which are the most common ones?"
   ]
  },
  {
   "cell_type": "code",
   "execution_count": null,
   "id": "75ce2b6a",
   "metadata": {},
   "outputs": [],
   "source": [
    "# get the summary of the elements in the left_repeat column\n",
    "example_res['left_repeat'].value_counts()"
   ]
  },
  {
   "cell_type": "code",
   "execution_count": null,
   "id": "f284df3d",
   "metadata": {},
   "outputs": [],
   "source": [
    "# get the summary of the elements in the right_repeat column\n",
    "example_res['right_repeat'].value_counts()"
   ]
  },
  {
   "cell_type": "code",
   "execution_count": null,
   "id": "cf8895d2",
   "metadata": {},
   "outputs": [],
   "source": [
    "# get the summary of the elements in the right_repeat column\n",
    "example_res['polyAT_right'].value_counts()"
   ]
  },
  {
   "cell_type": "markdown",
   "id": "4461561a",
   "metadata": {},
   "source": [
    "## Read all the results"
   ]
  },
  {
   "cell_type": "markdown",
   "id": "bd916235",
   "metadata": {},
   "source": [
    "Accompanying this python jupyter notebook there is a file named as all_results.tsv that contains the results for 100 different SRA samples."
   ]
  },
  {
   "cell_type": "code",
   "execution_count": null,
   "id": "13e0e263",
   "metadata": {},
   "outputs": [],
   "source": [
    "example_res_all = pd.read_csv(\"all_results.tsv\", sep=\"\\t\")"
   ]
  },
  {
   "cell_type": "code",
   "execution_count": null,
   "id": "0369fe21",
   "metadata": {},
   "outputs": [],
   "source": [
    "example_res_all.shape"
   ]
  },
  {
   "cell_type": "code",
   "execution_count": null,
   "id": "e61c871c",
   "metadata": {},
   "outputs": [],
   "source": [
    "example_res_all.head()"
   ]
  },
  {
   "cell_type": "code",
   "execution_count": null,
   "id": "7ffff7d1",
   "metadata": {},
   "outputs": [],
   "source": [
    "example_res_all.tail()"
   ]
  },
  {
   "cell_type": "markdown",
   "id": "fa7643c5",
   "metadata": {},
   "source": [
    "We can get unique values for column strain, this should be the 100 samples included\n"
   ]
  },
  {
   "cell_type": "code",
   "execution_count": null,
   "id": "fd8e9c6a",
   "metadata": {},
   "outputs": [],
   "source": [
    "## get unique values for column strain\n",
    "set(example_res_all.strain)"
   ]
  },
  {
   "cell_type": "markdown",
   "id": "04a87e59",
   "metadata": {},
   "source": [
    "We can get the values for all samples and an example transposon\n"
   ]
  },
  {
   "cell_type": "code",
   "execution_count": null,
   "id": "39363a66",
   "metadata": {},
   "outputs": [],
   "source": [
    "## subset the dataframe with a given value for a column: TE=FBti0063675\n",
    "example_res_all[example_res_all['TE']=='FBti0063675']"
   ]
  },
  {
   "cell_type": "markdown",
   "id": "c635df8d",
   "metadata": {},
   "source": [
    "We can produce some summary results for the samples"
   ]
  },
  {
   "cell_type": "code",
   "execution_count": null,
   "id": "b034d487",
   "metadata": {},
   "outputs": [],
   "source": [
    "## count values for each level in the combination column\n",
    "example_res_all['combination'].value_counts()"
   ]
  },
  {
   "cell_type": "markdown",
   "id": "e8633b73",
   "metadata": {},
   "source": [
    "By doing the previous code, we are obtaining the summary of all values for all samples, but we might be interested in obtaining grouped by each sample"
   ]
  },
  {
   "cell_type": "code",
   "execution_count": null,
   "id": "bbb2eb39",
   "metadata": {},
   "outputs": [],
   "source": [
    "## Group by sample and count the combination levels: absent, no_data, polymorphic, present, absent\n",
    "example_res_all.groupby(['strain', 'combination'])['combination'].agg(['count'])"
   ]
  },
  {
   "cell_type": "code",
   "execution_count": null,
   "id": "7e0c4903",
   "metadata": {},
   "outputs": [],
   "source": [
    "## unstack and pivot the table to better understand the results\n",
    "summary_data = example_res_all.groupby(['strain', 'combination'])['combination'].agg(['count']).unstack()\n",
    "summary_data"
   ]
  },
  {
   "cell_type": "markdown",
   "id": "b735829b",
   "metadata": {},
   "source": [
    "We are going to create a plot for all samples, one in each column and the stacked values of the different levels of combination parameters\n"
   ]
  },
  {
   "cell_type": "code",
   "execution_count": null,
   "id": "fc1bea3e",
   "metadata": {},
   "outputs": [],
   "source": [
    "## plot the results of the combination column group by strain and summarized\n",
    "example_res_all.groupby('strain')['combination'].value_counts().unstack().plot.bar(stacked=True)"
   ]
  }
 ],
 "metadata": {
  "kernelspec": {
   "display_name": "Python 3 (ipykernel)",
   "language": "python",
   "name": "python3"
  },
  "language_info": {
   "codemirror_mode": {
    "name": "ipython",
    "version": 3
   },
   "file_extension": ".py",
   "mimetype": "text/x-python",
   "name": "python",
   "nbconvert_exporter": "python",
   "pygments_lexer": "ipython3",
   "version": "3.9.13"
  }
 },
 "nbformat": 4,
 "nbformat_minor": 5
}
